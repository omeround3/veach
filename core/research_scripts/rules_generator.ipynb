{
 "cells": [
  {
   "cell_type": "code",
   "execution_count": 2,
   "metadata": {},
   "outputs": [],
   "source": [
    "import pickle\n",
    "import sys\n",
    "sys.path.append(\"C:\\\\Users\\\\Daniel\\\\Documents\\\\veach\\\\\")\n",
    "from core.analyser.cvss.cvss_record_template_v3 import *\n",
    "from core.analyser.category import Rule, Category\n",
    "from core.obj.vector_string import VectorString\n",
    "from core.analyser.enums import *"
   ]
  },
  {
   "cell_type": "code",
   "execution_count": 17,
   "metadata": {},
   "outputs": [],
   "source": [
    "rules:set[Rule] = set()"
   ]
  },
  {
   "cell_type": "code",
   "execution_count": 20,
   "metadata": {},
   "outputs": [
    {
     "ename": "PicklingError",
     "evalue": "Can't pickle <class 'core.analyser.category.Rule'>: import of module 'core.analyser.category' failed",
     "output_type": "error",
     "traceback": [
      "\u001b[1;31m---------------------------------------------------------------------------\u001b[0m",
      "\u001b[1;31mPicklingError\u001b[0m                             Traceback (most recent call last)",
      "\u001b[1;32mc:\\Users\\Daniel\\Documents\\veach\\core\\research_scripts\\rules_generator.ipynb Cell 3'\u001b[0m in \u001b[0;36m<cell line: 13>\u001b[1;34m()\u001b[0m\n\u001b[0;32m     <a href='vscode-notebook-cell:/c%3A/Users/Daniel/Documents/veach/core/research_scripts/rules_generator.ipynb#ch0000002?line=10'>11</a>\u001b[0m rules\u001b[39m.\u001b[39madd(Rule(CVSSRecordV3(vs),severity,is_critical))\n\u001b[0;32m     <a href='vscode-notebook-cell:/c%3A/Users/Daniel/Documents/veach/core/research_scripts/rules_generator.ipynb#ch0000002?line=12'>13</a>\u001b[0m \u001b[39mwith\u001b[39;00m \u001b[39mopen\u001b[39m(\u001b[39m\"\u001b[39m\u001b[39mveach_rules\u001b[39m\u001b[39m\"\u001b[39m, \u001b[39m'\u001b[39m\u001b[39mwb\u001b[39m\u001b[39m'\u001b[39m) \u001b[39mas\u001b[39;00m file:\n\u001b[1;32m---> <a href='vscode-notebook-cell:/c%3A/Users/Daniel/Documents/veach/core/research_scripts/rules_generator.ipynb#ch0000002?line=13'>14</a>\u001b[0m     rules \u001b[39m=\u001b[39m pickle\u001b[39m.\u001b[39;49mdump(\u001b[39mlist\u001b[39;49m(rules),file)\n\u001b[0;32m     <a href='vscode-notebook-cell:/c%3A/Users/Daniel/Documents/veach/core/research_scripts/rules_generator.ipynb#ch0000002?line=14'>15</a>\u001b[0m     file\u001b[39m.\u001b[39mclose\n",
      "\u001b[1;31mPicklingError\u001b[0m: Can't pickle <class 'core.analyser.category.Rule'>: import of module 'core.analyser.category' failed"
     ]
    }
   ],
   "source": [
    "vs = VectorString(  av = AttackVector.NETWORK,\n",
    "                    ac = AttackComplexity.LOW,\n",
    "                    pr = PrivilegesRequired.NONE,\n",
    "                    ui = UserInteraction.NONE,\n",
    "                    s = Scope.CHANGED,\n",
    "                    c = ConfidentialityImpact.NONE,\n",
    "                    i = IntegrityImpact.NONE,\n",
    "                    a = AvailabilityImpact.NONE)\n",
    "severity = Severity.LOW\n",
    "is_critical = True\n",
    "rules.add(Rule(CVSSRecordV3(vs),severity,is_critical))"
   ]
  },
  {
   "cell_type": "code",
   "execution_count": 19,
   "metadata": {},
   "outputs": [
    {
     "ename": "PicklingError",
     "evalue": "Can't pickle <class 'core.analyser.category.Rule'>: import of module 'core.analyser.category' failed",
     "output_type": "error",
     "traceback": [
      "\u001b[1;31m---------------------------------------------------------------------------\u001b[0m",
      "\u001b[1;31mPicklingError\u001b[0m                             Traceback (most recent call last)",
      "\u001b[1;32mc:\\Users\\Daniel\\Documents\\veach\\core\\research_scripts\\rules_generator.ipynb Cell 4'\u001b[0m in \u001b[0;36m<cell line: 1>\u001b[1;34m()\u001b[0m\n\u001b[0;32m      <a href='vscode-notebook-cell:/c%3A/Users/Daniel/Documents/veach/core/research_scripts/rules_generator.ipynb#ch0000003?line=0'>1</a>\u001b[0m \u001b[39mwith\u001b[39;00m \u001b[39mopen\u001b[39m(\u001b[39m\"\u001b[39m\u001b[39mveach_rules\u001b[39m\u001b[39m\"\u001b[39m, \u001b[39m'\u001b[39m\u001b[39mwb\u001b[39m\u001b[39m'\u001b[39m) \u001b[39mas\u001b[39;00m file:\n\u001b[1;32m----> <a href='vscode-notebook-cell:/c%3A/Users/Daniel/Documents/veach/core/research_scripts/rules_generator.ipynb#ch0000003?line=1'>2</a>\u001b[0m     rules \u001b[39m=\u001b[39m pickle\u001b[39m.\u001b[39;49mdump(\u001b[39mlist\u001b[39;49m(rules),file)\n\u001b[0;32m      <a href='vscode-notebook-cell:/c%3A/Users/Daniel/Documents/veach/core/research_scripts/rules_generator.ipynb#ch0000003?line=2'>3</a>\u001b[0m     file\u001b[39m.\u001b[39mclose\n",
      "\u001b[1;31mPicklingError\u001b[0m: Can't pickle <class 'core.analyser.category.Rule'>: import of module 'core.analyser.category' failed"
     ]
    }
   ],
   "source": [
    "with open(\"veach_rules\", 'wb') as file:\n",
    "    rules = pickle.dump(list(rules),file)\n",
    "    file.close"
   ]
  },
  {
   "cell_type": "code",
   "execution_count": null,
   "metadata": {},
   "outputs": [],
   "source": []
  },
  {
   "cell_type": "code",
   "execution_count": null,
   "metadata": {},
   "outputs": [],
   "source": []
  },
  {
   "cell_type": "code",
   "execution_count": null,
   "metadata": {},
   "outputs": [],
   "source": []
  },
  {
   "cell_type": "code",
   "execution_count": null,
   "metadata": {},
   "outputs": [],
   "source": []
  },
  {
   "cell_type": "code",
   "execution_count": null,
   "metadata": {},
   "outputs": [],
   "source": [
    "file = open(\"../analyser/veach_rules\",\"wb\")\n",
    "pickle.dump(rules,file)\n",
    "file.close()\n",
    "\n"
   ]
  }
 ],
 "metadata": {
  "interpreter": {
   "hash": "6f841f3b6e71fb937fc1af93a764d79af1d8103359ecd4aaeadd894e58b2d6d8"
  },
  "kernelspec": {
   "display_name": "Python 3.10.4 ('venv': venv)",
   "language": "python",
   "name": "python3"
  },
  "language_info": {
   "codemirror_mode": {
    "name": "ipython",
    "version": 3
   },
   "file_extension": ".py",
   "mimetype": "text/x-python",
   "name": "python",
   "nbconvert_exporter": "python",
   "pygments_lexer": "ipython3",
   "version": "3.10.5"
  },
  "orig_nbformat": 4
 },
 "nbformat": 4,
 "nbformat_minor": 2
}
