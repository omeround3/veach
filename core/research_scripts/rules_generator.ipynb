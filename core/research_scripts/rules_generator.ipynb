{
 "cells": [
  {
   "cell_type": "code",
   "execution_count": 8,
   "metadata": {},
   "outputs": [],
   "source": [
    "import pickle\n",
    "import sys\n",
    "sys.path.append(\"C:\\\\Users\\\\Daniel\\\\Documents\\\\veach\\\\\")\n",
    "from core.analyser.cvss.cvss_record_template_v3 import *\n",
    "from core.analyser.category import Rule\n",
    "from core.obj.vector_string import VectorString\n",
    "from core.analyser.enums import *"
   ]
  },
  {
   "cell_type": "code",
   "execution_count": 9,
   "metadata": {},
   "outputs": [],
   "source": [
    "rules:set[Rule] = set()"
   ]
  },
  {
   "cell_type": "code",
   "execution_count": 10,
   "metadata": {},
   "outputs": [],
   "source": [
    "vs = VectorString(  av = AttackVector.LOCAL,\n",
    "                    ac = None,\n",
    "                    pr = None,\n",
    "                    ui = UserInteraction.NONE,\n",
    "                    s = None,\n",
    "                    c = None,\n",
    "                    i = None,\n",
    "                    a = None)\n",
    "severity = Severity.LOW\n",
    "is_critical = False\n",
    "rules.add(Rule(CVSSRecordV3(vs),severity,is_critical))"
   ]
  },
  {
   "cell_type": "code",
   "execution_count": null,
   "metadata": {},
   "outputs": [],
   "source": []
  },
  {
   "cell_type": "code",
   "execution_count": null,
   "metadata": {},
   "outputs": [],
   "source": []
  },
  {
   "cell_type": "code",
   "execution_count": null,
   "metadata": {},
   "outputs": [],
   "source": []
  },
  {
   "cell_type": "code",
   "execution_count": null,
   "metadata": {},
   "outputs": [],
   "source": []
  },
  {
   "cell_type": "code",
   "execution_count": null,
   "metadata": {},
   "outputs": [],
   "source": []
  },
  {
   "cell_type": "code",
   "execution_count": 11,
   "metadata": {},
   "outputs": [],
   "source": [
    "file = open(\"../analyser/veach_rules\",\"wb\")\n",
    "pickle.dump(rules,file)\n",
    "file.close()\n",
    "\n"
   ]
  }
 ],
 "metadata": {
  "interpreter": {
   "hash": "6f841f3b6e71fb937fc1af93a764d79af1d8103359ecd4aaeadd894e58b2d6d8"
  },
  "kernelspec": {
   "display_name": "Python 3.10.4 ('venv': venv)",
   "language": "python",
   "name": "python3"
  },
  "language_info": {
   "codemirror_mode": {
    "name": "ipython",
    "version": 3
   },
   "file_extension": ".py",
   "mimetype": "text/x-python",
   "name": "python",
   "nbconvert_exporter": "python",
   "pygments_lexer": "ipython3",
   "version": "3.10.4"
  },
  "orig_nbformat": 4
 },
 "nbformat": 4,
 "nbformat_minor": 2
}
