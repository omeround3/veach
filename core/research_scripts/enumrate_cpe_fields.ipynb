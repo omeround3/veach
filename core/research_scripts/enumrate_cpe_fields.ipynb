{
 "cells": [
  {
   "cell_type": "code",
   "execution_count": 1,
   "metadata": {},
   "outputs": [],
   "source": [
    "from utils import *"
   ]
  },
  {
   "cell_type": "code",
   "execution_count": 2,
   "metadata": {},
   "outputs": [],
   "source": [
    "# This script will enumerate all existing fields under cpe_match\n",
    "fields = set()\n",
    "\n",
    "# Get all data from json feed\n",
    "cve_data = get_cve_records_from_files(2022)"
   ]
  },
  {
   "cell_type": "code",
   "execution_count": 3,
   "metadata": {},
   "outputs": [],
   "source": [
    "\n",
    "for rec in cve_data:\n",
    "    nodes = get_field('configurations.nodes', rec)\n",
    "    if nodes:\n",
    "        for node in nodes:\n",
    "            cpe_matches = get_field('cpe_match', node)\n",
    "            for match in cpe_matches:\n",
    "                for key in match.keys():\n",
    "                    fields.add(key)"
   ]
  },
  {
   "cell_type": "code",
   "execution_count": null,
   "metadata": {},
   "outputs": [],
   "source": [
    "print_to_file(fields, __file__.replace(\".py\", \".txt\"))\n"
   ]
  }
 ],
 "metadata": {
  "interpreter": {
   "hash": "6f841f3b6e71fb937fc1af93a764d79af1d8103359ecd4aaeadd894e58b2d6d8"
  },
  "kernelspec": {
   "display_name": "Python 3.10.4 ('venv': venv)",
   "language": "python",
   "name": "python3"
  },
  "language_info": {
   "codemirror_mode": {
    "name": "ipython",
    "version": 3
   },
   "file_extension": ".py",
   "mimetype": "text/x-python",
   "name": "python",
   "nbconvert_exporter": "python",
   "pygments_lexer": "ipython3",
   "version": "3.10.4"
  },
  "orig_nbformat": 4
 },
 "nbformat": 4,
 "nbformat_minor": 2
}
