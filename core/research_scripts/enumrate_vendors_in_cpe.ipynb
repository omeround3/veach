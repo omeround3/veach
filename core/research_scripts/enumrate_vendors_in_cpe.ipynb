{
 "cells": [
  {
   "cell_type": "code",
   "execution_count": 15,
   "metadata": {},
   "outputs": [],
   "source": [
    "import json\n",
    "import os\n",
    "from utils import *"
   ]
  },
  {
   "cell_type": "code",
   "execution_count": 16,
   "metadata": {},
   "outputs": [],
   "source": [
    "\n",
    "my_str = f'C:\\\\Users\\\\Daniel\\\\Documents\\\\veach\\\\core\\\\research_scripts\\\\jsons\\\\nvdcpematch-1.0.json'\n",
    "tmp = open(my_str, encoding='utf-8')\n",
    "cpe_data = json.load(tmp)"
   ]
  },
  {
   "cell_type": "code",
   "execution_count": 17,
   "metadata": {},
   "outputs": [],
   "source": [
    "vendors = set()\n",
    "for c in cpe_data:\n",
    "    id = c['cpe23Uri']\n",
    "    vendor_name = id.split(':')[3]\n",
    "    vendors.add(vendor_name)\n",
    "    "
   ]
  },
  {
   "cell_type": "code",
   "execution_count": 19,
   "metadata": {},
   "outputs": [
    {
     "data": {
      "text/plain": [
       "'c:\\\\Users\\\\Daniel\\\\Documents\\\\veach\\\\core\\\\research_scripts'"
      ]
     },
     "execution_count": 19,
     "metadata": {},
     "output_type": "execute_result"
    }
   ],
   "source": [
    "os.path.abspath('')"
   ]
  },
  {
   "cell_type": "code",
   "execution_count": 20,
   "metadata": {},
   "outputs": [],
   "source": [
    "print_to_file(vendors, \"enumrate_vendors_in_cpe.txt\")\n"
   ]
  }
 ],
 "metadata": {
  "interpreter": {
   "hash": "6f841f3b6e71fb937fc1af93a764d79af1d8103359ecd4aaeadd894e58b2d6d8"
  },
  "kernelspec": {
   "display_name": "Python 3.10.4 ('venv': venv)",
   "language": "python",
   "name": "python3"
  },
  "language_info": {
   "codemirror_mode": {
    "name": "ipython",
    "version": 3
   },
   "file_extension": ".py",
   "mimetype": "text/x-python",
   "name": "python",
   "nbconvert_exporter": "python",
   "pygments_lexer": "ipython3",
   "version": "3.10.4"
  },
  "orig_nbformat": 4
 },
 "nbformat": 4,
 "nbformat_minor": 2
}
