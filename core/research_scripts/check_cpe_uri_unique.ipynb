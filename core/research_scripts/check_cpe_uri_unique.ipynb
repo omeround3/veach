{
 "cells": [
  {
   "cell_type": "code",
   "execution_count": 2,
   "metadata": {},
   "outputs": [],
   "source": [
    "import json\n",
    "from utils import *"
   ]
  },
  {
   "cell_type": "code",
   "execution_count": 6,
   "metadata": {},
   "outputs": [],
   "source": [
    "\n",
    "my_str = f'C:\\\\Users\\\\Daniel\\\\Documents\\\\veach\\\\core\\\\research_scripts\\\\jsons\\\\nvdcpematch-1.0.json'\n",
    "tmp = open(my_str, encoding='utf-8')\n",
    "cpe_data = json.load(tmp)"
   ]
  },
  {
   "cell_type": "code",
   "execution_count": 8,
   "metadata": {},
   "outputs": [
    {
     "data": {
      "text/plain": [
       "383960"
      ]
     },
     "execution_count": 8,
     "metadata": {},
     "output_type": "execute_result"
    }
   ],
   "source": [
    "len(cpe_data)"
   ]
  },
  {
   "cell_type": "code",
   "execution_count": 15,
   "metadata": {},
   "outputs": [
    {
     "data": {
      "text/plain": [
       "False"
      ]
     },
     "execution_count": 15,
     "metadata": {},
     "output_type": "execute_result"
    }
   ],
   "source": [
    "ids = []\n",
    "for c in cpe_data:\n",
    "    id = c['cpe23Uri']\n",
    "\n",
    "    if 'versionStartExcluding' in c:\n",
    "        id += c['versionStartExcluding']+'_VSE'\n",
    "    if 'versionEndIncluding' in c:\n",
    "        id += c['versionEndIncluding']+'_VEI'\n",
    "    if 'versionStartIncluding' in c:\n",
    "        id += c['versionStartIncluding']+'_VSI'\n",
    "    if 'versionEndExcluding' in c:\n",
    "        id += c['versionEndExcluding']+'_VEE'\n",
    "    ids.append(id)\n",
    "    \n",
    "a_set = set(ids)\n",
    "contains_duplicates = len(ids) != len(a_set)\n",
    "contains_duplicates"
   ]
  },
  {
   "cell_type": "code",
   "execution_count": null,
   "metadata": {},
   "outputs": [],
   "source": [
    "print_to_file(fields, __file__.replace(\".py\", \".txt\"))\n"
   ]
  }
 ],
 "metadata": {
  "interpreter": {
   "hash": "6f841f3b6e71fb937fc1af93a764d79af1d8103359ecd4aaeadd894e58b2d6d8"
  },
  "kernelspec": {
   "display_name": "Python 3.10.4 ('venv': venv)",
   "language": "python",
   "name": "python3"
  },
  "language_info": {
   "codemirror_mode": {
    "name": "ipython",
    "version": 3
   },
   "file_extension": ".py",
   "mimetype": "text/x-python",
   "name": "python",
   "nbconvert_exporter": "python",
   "pygments_lexer": "ipython3",
   "version": "3.10.4"
  },
  "orig_nbformat": 4
 },
 "nbformat": 4,
 "nbformat_minor": 2
}
